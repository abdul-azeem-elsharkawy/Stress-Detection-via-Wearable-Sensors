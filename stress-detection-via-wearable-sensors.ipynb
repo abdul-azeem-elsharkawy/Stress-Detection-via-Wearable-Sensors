{
 "cells": [
  {
   "cell_type": "markdown",
   "id": "906deb09",
   "metadata": {
    "papermill": {
     "duration": 0.005952,
     "end_time": "2025-03-16T20:14:30.340086",
     "exception": false,
     "start_time": "2025-03-16T20:14:30.334134",
     "status": "completed"
    },
    "tags": []
   },
   "source": [
    "# Importing Libraries"
   ]
  },
  {
   "cell_type": "code",
   "execution_count": 1,
   "id": "8567e823",
   "metadata": {
    "execution": {
     "iopub.execute_input": "2025-03-16T20:14:30.352520Z",
     "iopub.status.busy": "2025-03-16T20:14:30.351996Z",
     "iopub.status.idle": "2025-03-16T20:14:37.303200Z",
     "shell.execute_reply": "2025-03-16T20:14:37.301768Z"
    },
    "papermill": {
     "duration": 6.959721,
     "end_time": "2025-03-16T20:14:37.305281",
     "exception": false,
     "start_time": "2025-03-16T20:14:30.345560",
     "status": "completed"
    },
    "tags": []
   },
   "outputs": [
    {
     "name": "stdout",
     "output_type": "stream",
     "text": [
      "Collecting neurokit2\r\n",
      "  Downloading neurokit2-0.2.10-py2.py3-none-any.whl.metadata (37 kB)\r\n",
      "Requirement already satisfied: requests in /usr/local/lib/python3.10/dist-packages (from neurokit2) (2.32.3)\r\n",
      "Requirement already satisfied: numpy in /usr/local/lib/python3.10/dist-packages (from neurokit2) (1.26.4)\r\n",
      "Requirement already satisfied: pandas in /usr/local/lib/python3.10/dist-packages (from neurokit2) (2.2.3)\r\n",
      "Requirement already satisfied: scipy in /usr/local/lib/python3.10/dist-packages (from neurokit2) (1.13.1)\r\n",
      "Requirement already satisfied: scikit-learn>=1.0.0 in /usr/local/lib/python3.10/dist-packages (from neurokit2) (1.2.2)\r\n",
      "Requirement already satisfied: matplotlib in /usr/local/lib/python3.10/dist-packages (from neurokit2) (3.7.5)\r\n",
      "Requirement already satisfied: joblib>=1.1.1 in /usr/local/lib/python3.10/dist-packages (from scikit-learn>=1.0.0->neurokit2) (1.4.2)\r\n",
      "Requirement already satisfied: threadpoolctl>=2.0.0 in /usr/local/lib/python3.10/dist-packages (from scikit-learn>=1.0.0->neurokit2) (3.5.0)\r\n",
      "Requirement already satisfied: mkl_fft in /usr/local/lib/python3.10/dist-packages (from numpy->neurokit2) (1.3.8)\r\n",
      "Requirement already satisfied: mkl_random in /usr/local/lib/python3.10/dist-packages (from numpy->neurokit2) (1.2.4)\r\n",
      "Requirement already satisfied: mkl_umath in /usr/local/lib/python3.10/dist-packages (from numpy->neurokit2) (0.1.1)\r\n",
      "Requirement already satisfied: mkl in /usr/local/lib/python3.10/dist-packages (from numpy->neurokit2) (2025.0.1)\r\n",
      "Requirement already satisfied: tbb4py in /usr/local/lib/python3.10/dist-packages (from numpy->neurokit2) (2022.0.0)\r\n",
      "Requirement already satisfied: mkl-service in /usr/local/lib/python3.10/dist-packages (from numpy->neurokit2) (2.4.1)\r\n",
      "Requirement already satisfied: contourpy>=1.0.1 in /usr/local/lib/python3.10/dist-packages (from matplotlib->neurokit2) (1.3.1)\r\n",
      "Requirement already satisfied: cycler>=0.10 in /usr/local/lib/python3.10/dist-packages (from matplotlib->neurokit2) (0.12.1)\r\n",
      "Requirement already satisfied: fonttools>=4.22.0 in /usr/local/lib/python3.10/dist-packages (from matplotlib->neurokit2) (4.55.3)\r\n",
      "Requirement already satisfied: kiwisolver>=1.0.1 in /usr/local/lib/python3.10/dist-packages (from matplotlib->neurokit2) (1.4.7)\r\n",
      "Requirement already satisfied: packaging>=20.0 in /usr/local/lib/python3.10/dist-packages (from matplotlib->neurokit2) (24.2)\r\n",
      "Requirement already satisfied: pillow>=6.2.0 in /usr/local/lib/python3.10/dist-packages (from matplotlib->neurokit2) (11.0.0)\r\n",
      "Requirement already satisfied: pyparsing>=2.3.1 in /usr/local/lib/python3.10/dist-packages (from matplotlib->neurokit2) (3.2.0)\r\n",
      "Requirement already satisfied: python-dateutil>=2.7 in /usr/local/lib/python3.10/dist-packages (from matplotlib->neurokit2) (2.9.0.post0)\r\n",
      "Requirement already satisfied: pytz>=2020.1 in /usr/local/lib/python3.10/dist-packages (from pandas->neurokit2) (2025.1)\r\n",
      "Requirement already satisfied: tzdata>=2022.7 in /usr/local/lib/python3.10/dist-packages (from pandas->neurokit2) (2025.1)\r\n",
      "Requirement already satisfied: charset-normalizer<4,>=2 in /usr/local/lib/python3.10/dist-packages (from requests->neurokit2) (3.4.1)\r\n",
      "Requirement already satisfied: idna<4,>=2.5 in /usr/local/lib/python3.10/dist-packages (from requests->neurokit2) (3.10)\r\n",
      "Requirement already satisfied: urllib3<3,>=1.21.1 in /usr/local/lib/python3.10/dist-packages (from requests->neurokit2) (2.3.0)\r\n",
      "Requirement already satisfied: certifi>=2017.4.17 in /usr/local/lib/python3.10/dist-packages (from requests->neurokit2) (2025.1.31)\r\n",
      "Requirement already satisfied: six>=1.5 in /usr/local/lib/python3.10/dist-packages (from python-dateutil>=2.7->matplotlib->neurokit2) (1.17.0)\r\n",
      "Requirement already satisfied: intel-openmp>=2024 in /usr/local/lib/python3.10/dist-packages (from mkl->numpy->neurokit2) (2024.2.0)\r\n",
      "Requirement already satisfied: tbb==2022.* in /usr/local/lib/python3.10/dist-packages (from mkl->numpy->neurokit2) (2022.0.0)\r\n",
      "Requirement already satisfied: tcmlib==1.* in /usr/local/lib/python3.10/dist-packages (from tbb==2022.*->mkl->numpy->neurokit2) (1.2.0)\r\n",
      "Requirement already satisfied: intel-cmplr-lib-rt in /usr/local/lib/python3.10/dist-packages (from mkl_umath->numpy->neurokit2) (2024.2.0)\r\n",
      "Requirement already satisfied: intel-cmplr-lib-ur==2024.2.0 in /usr/local/lib/python3.10/dist-packages (from intel-openmp>=2024->mkl->numpy->neurokit2) (2024.2.0)\r\n",
      "Downloading neurokit2-0.2.10-py2.py3-none-any.whl (693 kB)\r\n",
      "\u001b[2K   \u001b[90m━━━━━━━━━━━━━━━━━━━━━━━━━━━━━━━━━━━━━━━━\u001b[0m \u001b[32m693.1/693.1 kB\u001b[0m \u001b[31m20.7 MB/s\u001b[0m eta \u001b[36m0:00:00\u001b[0m\r\n",
      "\u001b[?25hInstalling collected packages: neurokit2\r\n",
      "Successfully installed neurokit2-0.2.10\r\n"
     ]
    }
   ],
   "source": [
    "!pip install neurokit2"
   ]
  },
  {
   "cell_type": "code",
   "execution_count": 2,
   "id": "51d02e00",
   "metadata": {
    "execution": {
     "iopub.execute_input": "2025-03-16T20:14:37.318302Z",
     "iopub.status.busy": "2025-03-16T20:14:37.317915Z",
     "iopub.status.idle": "2025-03-16T20:14:40.949946Z",
     "shell.execute_reply": "2025-03-16T20:14:40.948860Z"
    },
    "papermill": {
     "duration": 3.64088,
     "end_time": "2025-03-16T20:14:40.952028",
     "exception": false,
     "start_time": "2025-03-16T20:14:37.311148",
     "status": "completed"
    },
    "tags": []
   },
   "outputs": [],
   "source": [
    "import pickle \n",
    "from IPython.display import display\n",
    "import pandas as pd\n",
    "import numpy as np\n",
    "import matplotlib.pyplot as plt\n",
    "import scipy.signal as signal\n",
    "import neurokit2 as nk"
   ]
  },
  {
   "cell_type": "markdown",
   "id": "2d0aa9d5",
   "metadata": {
    "papermill": {
     "duration": 0.005398,
     "end_time": "2025-03-16T20:14:40.963884",
     "exception": false,
     "start_time": "2025-03-16T20:14:40.958486",
     "status": "completed"
    },
    "tags": []
   },
   "source": [
    "# Importing Pickle file of Subject 2"
   ]
  },
  {
   "cell_type": "code",
   "execution_count": 3,
   "id": "77c3ba92",
   "metadata": {
    "execution": {
     "iopub.execute_input": "2025-03-16T20:14:40.976739Z",
     "iopub.status.busy": "2025-03-16T20:14:40.976133Z",
     "iopub.status.idle": "2025-03-16T20:14:51.866254Z",
     "shell.execute_reply": "2025-03-16T20:14:51.864910Z"
    },
    "papermill": {
     "duration": 10.898465,
     "end_time": "2025-03-16T20:14:51.868034",
     "exception": false,
     "start_time": "2025-03-16T20:14:40.969569",
     "status": "completed"
    },
    "tags": []
   },
   "outputs": [
    {
     "name": "stdout",
     "output_type": "stream",
     "text": [
      "{'signal': {'chest': {'ACC': array([[ 0.95539999, -0.222     , -0.55799997],\n",
      "       [ 0.92579997, -0.2216    , -0.55379999],\n",
      "       [ 0.90820003, -0.21960002, -0.53920001],\n",
      "       ...,\n",
      "       [ 0.87179995, -0.12379998, -0.30419999],\n",
      "       [ 0.87300003, -0.12339997, -0.30260003],\n",
      "       [ 0.87020004, -0.12199998, -0.30220002]]), 'ECG': array([[ 0.02142334],\n",
      "       [ 0.02032471],\n",
      "       [ 0.01652527],\n",
      "       ...,\n",
      "       [-0.00544739],\n",
      "       [ 0.00013733],\n",
      "       [ 0.0040741 ]]), 'EMG': array([[-0.00444031],\n",
      "       [ 0.00434875],\n",
      "       [ 0.00517273],\n",
      "       ...,\n",
      "       [-0.01716614],\n",
      "       [-0.02897644],\n",
      "       [-0.02357483]]), 'EDA': array([[5.25054932],\n",
      "       [5.26733398],\n",
      "       [5.24330139],\n",
      "       ...,\n",
      "       [0.36048889],\n",
      "       [0.36582947],\n",
      "       [0.365448  ]]), 'Temp': array([[30.120758],\n",
      "       [30.129517],\n",
      "       [30.138214],\n",
      "       ...,\n",
      "       [31.459229],\n",
      "       [31.484283],\n",
      "       [31.456268]], dtype=float32), 'Resp': array([[-1.14898682],\n",
      "       [-1.12457275],\n",
      "       [-1.15203857],\n",
      "       ...,\n",
      "       [-1.10321045],\n",
      "       [-1.08642578],\n",
      "       [-1.09710693]])}, 'wrist': {'ACC': array([[ 62., -21., 107.],\n",
      "       [ 66.,  13.,  53.],\n",
      "       [ 41.,   9.,  15.],\n",
      "       ...,\n",
      "       [ 41.,  25.,  11.],\n",
      "       [ 39.,  27.,  22.],\n",
      "       [ 56.,  26.,  10.]]), 'BVP': array([[-59.37],\n",
      "       [-53.42],\n",
      "       [-44.4 ],\n",
      "       ...,\n",
      "       [ 18.26],\n",
      "       [ 18.68],\n",
      "       [ 19.71]]), 'EDA': array([[1.138257],\n",
      "       [1.125444],\n",
      "       [1.011405],\n",
      "       ...,\n",
      "       [0.059208],\n",
      "       [0.073303],\n",
      "       [0.045113]]), 'TEMP': array([[35.41],\n",
      "       [35.41],\n",
      "       [35.41],\n",
      "       ...,\n",
      "       [34.23],\n",
      "       [34.23],\n",
      "       [34.23]])}}, 'label': array([0, 0, 0, ..., 0, 0, 0], dtype=int32), 'subject': 'S2'}\n"
     ]
    }
   ],
   "source": [
    "file_path = \"/kaggle/input/wesad-full-dataset/WESAD/S2/S2.pkl\"\n",
    "\n",
    "with open(file_path, \"rb\") as file:\n",
    "    s2 = pickle.load(file, encoding=\"latin1\")\n",
    "\n",
    "print(s2)\n"
   ]
  },
  {
   "cell_type": "markdown",
   "id": "64c308ca",
   "metadata": {
    "papermill": {
     "duration": 0.005552,
     "end_time": "2025-03-16T20:14:51.879662",
     "exception": false,
     "start_time": "2025-03-16T20:14:51.874110",
     "status": "completed"
    },
    "tags": []
   },
   "source": [
    "## Preprocessing\n",
    "We will focus on the data from RespiBAN (chest device).\n",
    "Heart rate (HR), EDA, and Respiration are the key features related to stress. We will extract the HR from the ECG data and then synchronize it with the EDA, respiration, and Labels. Finally, we'll organize everything into a data frame to prepare it for input into the model."
   ]
  },
  {
   "cell_type": "code",
   "execution_count": 4,
   "id": "fc2e01ec",
   "metadata": {
    "execution": {
     "iopub.execute_input": "2025-03-16T20:14:51.892614Z",
     "iopub.status.busy": "2025-03-16T20:14:51.892256Z",
     "iopub.status.idle": "2025-03-16T20:14:52.749555Z",
     "shell.execute_reply": "2025-03-16T20:14:52.748308Z"
    },
    "papermill": {
     "duration": 0.866243,
     "end_time": "2025-03-16T20:14:52.751692",
     "exception": false,
     "start_time": "2025-03-16T20:14:51.885449",
     "status": "completed"
    },
    "tags": []
   },
   "outputs": [],
   "source": [
    "s2_ecg_signal = s2[\"signal\"][\"chest\"][\"ECG\"]\n",
    "s2_eda_signal = s2[\"signal\"][\"chest\"][\"EDA\"]\n",
    "s2_resp_signal = s2[\"signal\"][\"chest\"][\"Resp\"]\n",
    "s2_labels = s2[\"label\"]\n",
    "\n",
    "# Flatten the data (make it 1D array)\n",
    "s2_ecg_signal = s2_ecg_signal.flatten()\n",
    "s2_eda_signal = s2_eda_signal.flatten()\n",
    "s2_resp_signal = s2_resp_signal.flatten()\n",
    "\n",
    "# Sampling Rates (All signals were sampled at 700 Hz)\n",
    "frequency = 700  \n",
    "\n",
    "# Noise Reduction\n",
    "s2_ecg_cleaned = nk.ecg_clean(s2_ecg_signal, sampling_rate=frequency)\n",
    "\n",
    "# Finding R-Peaks\n",
    "s2_r_peaks, _ = signal.find_peaks(s2_ecg_cleaned, distance=frequency*0.6, height=np.mean(s2_ecg_cleaned))\n",
    "\n",
    "# Calculate HR in Beats Per Minute (BPM)\n",
    "s2_rr_intervals = np.diff(s2_r_peaks) / frequency \n",
    "s2_hr_bpm = 60 / s2_rr_intervals  \n",
    "\n",
    "# Upsampling HR to be the same number of values of EDA\n",
    "s2_hr_bpm_resampled = np.interp(np.linspace(0, len(s2_hr_bpm), len(s2_eda_signal)),\n",
    "                             np.linspace(0, len(s2_hr_bpm), len(s2_hr_bpm)),\n",
    "                             s2_hr_bpm)\n",
    "\n",
    "# Synchronizing features and labels\n",
    "s2_data_dict = {\n",
    "    \"Subject_ID\": 's2',\n",
    "    \"HR\": s2_hr_bpm_resampled,         # معدل ضربات القلب (HR) متزامن مع EDA\n",
    "    \"EDA\": s2_eda_signal,\n",
    "    \"Respiration\": s2_resp_signal,\n",
    "    \"Label\": s2_labels\n",
    "}\n",
    "\n",
    "s2_df = pd.DataFrame(s2_data_dict)"
   ]
  },
  {
   "cell_type": "code",
   "execution_count": 5,
   "id": "9ddfb50a",
   "metadata": {
    "execution": {
     "iopub.execute_input": "2025-03-16T20:14:52.765345Z",
     "iopub.status.busy": "2025-03-16T20:14:52.764928Z",
     "iopub.status.idle": "2025-03-16T20:14:52.798787Z",
     "shell.execute_reply": "2025-03-16T20:14:52.797589Z"
    },
    "papermill": {
     "duration": 0.042523,
     "end_time": "2025-03-16T20:14:52.800489",
     "exception": false,
     "start_time": "2025-03-16T20:14:52.757966",
     "status": "completed"
    },
    "tags": []
   },
   "outputs": [
    {
     "data": {
      "text/html": [
       "<div>\n",
       "<style scoped>\n",
       "    .dataframe tbody tr th:only-of-type {\n",
       "        vertical-align: middle;\n",
       "    }\n",
       "\n",
       "    .dataframe tbody tr th {\n",
       "        vertical-align: top;\n",
       "    }\n",
       "\n",
       "    .dataframe thead th {\n",
       "        text-align: right;\n",
       "    }\n",
       "</style>\n",
       "<table border=\"1\" class=\"dataframe\">\n",
       "  <thead>\n",
       "    <tr style=\"text-align: right;\">\n",
       "      <th></th>\n",
       "      <th>Subject_ID</th>\n",
       "      <th>HR</th>\n",
       "      <th>EDA</th>\n",
       "      <th>Respiration</th>\n",
       "      <th>Label</th>\n",
       "    </tr>\n",
       "  </thead>\n",
       "  <tbody>\n",
       "    <tr>\n",
       "      <th>0</th>\n",
       "      <td>s2</td>\n",
       "      <td>77.777778</td>\n",
       "      <td>5.250549</td>\n",
       "      <td>-1.148987</td>\n",
       "      <td>0</td>\n",
       "    </tr>\n",
       "    <tr>\n",
       "      <th>1</th>\n",
       "      <td>s2</td>\n",
       "      <td>77.785815</td>\n",
       "      <td>5.267334</td>\n",
       "      <td>-1.124573</td>\n",
       "      <td>0</td>\n",
       "    </tr>\n",
       "    <tr>\n",
       "      <th>2</th>\n",
       "      <td>s2</td>\n",
       "      <td>77.793852</td>\n",
       "      <td>5.243301</td>\n",
       "      <td>-1.152039</td>\n",
       "      <td>0</td>\n",
       "    </tr>\n",
       "    <tr>\n",
       "      <th>3</th>\n",
       "      <td>s2</td>\n",
       "      <td>77.801889</td>\n",
       "      <td>5.249405</td>\n",
       "      <td>-1.158142</td>\n",
       "      <td>0</td>\n",
       "    </tr>\n",
       "    <tr>\n",
       "      <th>4</th>\n",
       "      <td>s2</td>\n",
       "      <td>77.809927</td>\n",
       "      <td>5.286407</td>\n",
       "      <td>-1.161194</td>\n",
       "      <td>0</td>\n",
       "    </tr>\n",
       "    <tr>\n",
       "      <th>...</th>\n",
       "      <td>...</td>\n",
       "      <td>...</td>\n",
       "      <td>...</td>\n",
       "      <td>...</td>\n",
       "      <td>...</td>\n",
       "    </tr>\n",
       "    <tr>\n",
       "      <th>4255295</th>\n",
       "      <td>s2</td>\n",
       "      <td>59.647906</td>\n",
       "      <td>0.400162</td>\n",
       "      <td>-1.063538</td>\n",
       "      <td>0</td>\n",
       "    </tr>\n",
       "    <tr>\n",
       "      <th>4255296</th>\n",
       "      <td>s2</td>\n",
       "      <td>59.650702</td>\n",
       "      <td>0.355911</td>\n",
       "      <td>-1.106262</td>\n",
       "      <td>0</td>\n",
       "    </tr>\n",
       "    <tr>\n",
       "      <th>4255297</th>\n",
       "      <td>s2</td>\n",
       "      <td>59.653498</td>\n",
       "      <td>0.360489</td>\n",
       "      <td>-1.103210</td>\n",
       "      <td>0</td>\n",
       "    </tr>\n",
       "    <tr>\n",
       "      <th>4255298</th>\n",
       "      <td>s2</td>\n",
       "      <td>59.656295</td>\n",
       "      <td>0.365829</td>\n",
       "      <td>-1.086426</td>\n",
       "      <td>0</td>\n",
       "    </tr>\n",
       "    <tr>\n",
       "      <th>4255299</th>\n",
       "      <td>s2</td>\n",
       "      <td>59.659091</td>\n",
       "      <td>0.365448</td>\n",
       "      <td>-1.097107</td>\n",
       "      <td>0</td>\n",
       "    </tr>\n",
       "  </tbody>\n",
       "</table>\n",
       "<p>4255300 rows × 5 columns</p>\n",
       "</div>"
      ],
      "text/plain": [
       "        Subject_ID         HR       EDA  Respiration  Label\n",
       "0               s2  77.777778  5.250549    -1.148987      0\n",
       "1               s2  77.785815  5.267334    -1.124573      0\n",
       "2               s2  77.793852  5.243301    -1.152039      0\n",
       "3               s2  77.801889  5.249405    -1.158142      0\n",
       "4               s2  77.809927  5.286407    -1.161194      0\n",
       "...            ...        ...       ...          ...    ...\n",
       "4255295         s2  59.647906  0.400162    -1.063538      0\n",
       "4255296         s2  59.650702  0.355911    -1.106262      0\n",
       "4255297         s2  59.653498  0.360489    -1.103210      0\n",
       "4255298         s2  59.656295  0.365829    -1.086426      0\n",
       "4255299         s2  59.659091  0.365448    -1.097107      0\n",
       "\n",
       "[4255300 rows x 5 columns]"
      ]
     },
     "execution_count": 5,
     "metadata": {},
     "output_type": "execute_result"
    }
   ],
   "source": [
    "s2_df"
   ]
  },
  {
   "cell_type": "markdown",
   "id": "1d99f91e",
   "metadata": {
    "papermill": {
     "duration": 0.007871,
     "end_time": "2025-03-16T20:14:52.815139",
     "exception": false,
     "start_time": "2025-03-16T20:14:52.807268",
     "status": "completed"
    },
    "tags": []
   },
   "source": [
    "# Doint The Same Preprocessing Steps For All Subjects"
   ]
  },
  {
   "cell_type": "markdown",
   "id": "e9e93fd3",
   "metadata": {
    "papermill": {
     "duration": 0.006737,
     "end_time": "2025-03-16T20:14:52.828366",
     "exception": false,
     "start_time": "2025-03-16T20:14:52.821629",
     "status": "completed"
    },
    "tags": []
   },
   "source": [
    "## Subject 3"
   ]
  },
  {
   "cell_type": "markdown",
   "id": "cc6644ce",
   "metadata": {
    "papermill": {
     "duration": 0.007099,
     "end_time": "2025-03-16T20:14:52.842979",
     "exception": false,
     "start_time": "2025-03-16T20:14:52.835880",
     "status": "completed"
    },
    "tags": []
   },
   "source": [
    "### Importing Pickle file"
   ]
  },
  {
   "cell_type": "code",
   "execution_count": 6,
   "id": "7469fb7b",
   "metadata": {
    "execution": {
     "iopub.execute_input": "2025-03-16T20:14:52.857664Z",
     "iopub.status.busy": "2025-03-16T20:14:52.857299Z",
     "iopub.status.idle": "2025-03-16T20:15:04.017764Z",
     "shell.execute_reply": "2025-03-16T20:15:04.016299Z"
    },
    "papermill": {
     "duration": 11.17022,
     "end_time": "2025-03-16T20:15:04.019998",
     "exception": false,
     "start_time": "2025-03-16T20:14:52.849778",
     "status": "completed"
    },
    "tags": []
   },
   "outputs": [],
   "source": [
    "with open('/kaggle/input/wesad-full-dataset/WESAD/S3/S3.pkl', \"rb\") as file:\n",
    "    s3 = pickle.load(file, encoding=\"latin1\")"
   ]
  },
  {
   "cell_type": "markdown",
   "id": "2dd75559",
   "metadata": {
    "papermill": {
     "duration": 0.005895,
     "end_time": "2025-03-16T20:15:04.033179",
     "exception": false,
     "start_time": "2025-03-16T20:15:04.027284",
     "status": "completed"
    },
    "tags": []
   },
   "source": [
    "### Preprocessing"
   ]
  },
  {
   "cell_type": "code",
   "execution_count": 7,
   "id": "033a49de",
   "metadata": {
    "execution": {
     "iopub.execute_input": "2025-03-16T20:15:04.046789Z",
     "iopub.status.busy": "2025-03-16T20:15:04.046415Z",
     "iopub.status.idle": "2025-03-16T20:15:04.924214Z",
     "shell.execute_reply": "2025-03-16T20:15:04.922946Z"
    },
    "papermill": {
     "duration": 0.886655,
     "end_time": "2025-03-16T20:15:04.926039",
     "exception": false,
     "start_time": "2025-03-16T20:15:04.039384",
     "status": "completed"
    },
    "tags": []
   },
   "outputs": [],
   "source": [
    "s3_ecg_signal = s3[\"signal\"][\"chest\"][\"ECG\"]\n",
    "s3_eda_signal = s3[\"signal\"][\"chest\"][\"EDA\"]\n",
    "s3_resp_signal = s3[\"signal\"][\"chest\"][\"Resp\"]\n",
    "s3_labels = s3[\"label\"]\n",
    "\n",
    "# Flatten the data (make it 1D array)\n",
    "s3_ecg_signal = s3_ecg_signal.flatten()\n",
    "s3_eda_signal = s3_eda_signal.flatten()\n",
    "s3_resp_signal = s3_resp_signal.flatten()\n",
    "\n",
    "# Noise Reduction\n",
    "s3_ecg_cleaned = nk.ecg_clean(s3_ecg_signal, sampling_rate=frequency)\n",
    "\n",
    "# Finding R-Peaks\n",
    "s3_r_peaks, _ = signal.find_peaks(s3_ecg_cleaned, distance=frequency*0.6, height=np.mean(s3_ecg_cleaned))\n",
    "\n",
    "# Calculate HR in Beats Per Minute (BPM)\n",
    "s3_rr_intervals = np.diff(s3_r_peaks) / frequency \n",
    "s3_hr_bpm = 60 / s3_rr_intervals  \n",
    "\n",
    "# Upsampling HR to be the same number of values of EDA\n",
    "s3_hr_bpm_resampled = np.interp(np.linspace(0, len(s3_hr_bpm), len(s3_eda_signal)),\n",
    "                             np.linspace(0, len(s3_hr_bpm), len(s3_hr_bpm)),\n",
    "                             s3_hr_bpm)\n",
    "\n",
    "# Synchronizing features and labels\n",
    "s3_data_dict = {\n",
    "    \"Subject_ID\": 's3',\n",
    "    \"HR\": s3_hr_bpm_resampled,         # معدل ضربات القلب (HR) متزامن مع EDA\n",
    "    \"EDA\": s3_eda_signal,\n",
    "    \"Respiration\": s3_resp_signal,\n",
    "    \"Label\": s3_labels\n",
    "}\n",
    "\n",
    "s3_df = pd.DataFrame(s3_data_dict)\n"
   ]
  },
  {
   "cell_type": "code",
   "execution_count": 8,
   "id": "c2c24bce",
   "metadata": {
    "execution": {
     "iopub.execute_input": "2025-03-16T20:15:04.939982Z",
     "iopub.status.busy": "2025-03-16T20:15:04.939577Z",
     "iopub.status.idle": "2025-03-16T20:15:04.952641Z",
     "shell.execute_reply": "2025-03-16T20:15:04.951426Z"
    },
    "papermill": {
     "duration": 0.021815,
     "end_time": "2025-03-16T20:15:04.954398",
     "exception": false,
     "start_time": "2025-03-16T20:15:04.932583",
     "status": "completed"
    },
    "tags": []
   },
   "outputs": [
    {
     "data": {
      "text/html": [
       "<div>\n",
       "<style scoped>\n",
       "    .dataframe tbody tr th:only-of-type {\n",
       "        vertical-align: middle;\n",
       "    }\n",
       "\n",
       "    .dataframe tbody tr th {\n",
       "        vertical-align: top;\n",
       "    }\n",
       "\n",
       "    .dataframe thead th {\n",
       "        text-align: right;\n",
       "    }\n",
       "</style>\n",
       "<table border=\"1\" class=\"dataframe\">\n",
       "  <thead>\n",
       "    <tr style=\"text-align: right;\">\n",
       "      <th></th>\n",
       "      <th>Subject_ID</th>\n",
       "      <th>HR</th>\n",
       "      <th>EDA</th>\n",
       "      <th>Respiration</th>\n",
       "      <th>Label</th>\n",
       "    </tr>\n",
       "  </thead>\n",
       "  <tbody>\n",
       "    <tr>\n",
       "      <th>0</th>\n",
       "      <td>s3</td>\n",
       "      <td>63.540091</td>\n",
       "      <td>7.988358</td>\n",
       "      <td>2.204895</td>\n",
       "      <td>0</td>\n",
       "    </tr>\n",
       "    <tr>\n",
       "      <th>1</th>\n",
       "      <td>s3</td>\n",
       "      <td>63.548125</td>\n",
       "      <td>7.982254</td>\n",
       "      <td>2.180481</td>\n",
       "      <td>0</td>\n",
       "    </tr>\n",
       "    <tr>\n",
       "      <th>2</th>\n",
       "      <td>s3</td>\n",
       "      <td>63.556159</td>\n",
       "      <td>7.983398</td>\n",
       "      <td>2.166748</td>\n",
       "      <td>0</td>\n",
       "    </tr>\n",
       "    <tr>\n",
       "      <th>3</th>\n",
       "      <td>s3</td>\n",
       "      <td>63.564193</td>\n",
       "      <td>7.981873</td>\n",
       "      <td>2.191162</td>\n",
       "      <td>0</td>\n",
       "    </tr>\n",
       "    <tr>\n",
       "      <th>4</th>\n",
       "      <td>s3</td>\n",
       "      <td>63.572228</td>\n",
       "      <td>7.978821</td>\n",
       "      <td>2.183533</td>\n",
       "      <td>0</td>\n",
       "    </tr>\n",
       "    <tr>\n",
       "      <th>...</th>\n",
       "      <td>...</td>\n",
       "      <td>...</td>\n",
       "      <td>...</td>\n",
       "      <td>...</td>\n",
       "      <td>...</td>\n",
       "    </tr>\n",
       "    <tr>\n",
       "      <th>4545095</th>\n",
       "      <td>s3</td>\n",
       "      <td>49.055975</td>\n",
       "      <td>7.535934</td>\n",
       "      <td>1.371765</td>\n",
       "      <td>0</td>\n",
       "    </tr>\n",
       "    <tr>\n",
       "      <th>4545096</th>\n",
       "      <td>s3</td>\n",
       "      <td>49.058337</td>\n",
       "      <td>7.533646</td>\n",
       "      <td>1.356506</td>\n",
       "      <td>0</td>\n",
       "    </tr>\n",
       "    <tr>\n",
       "      <th>4545097</th>\n",
       "      <td>s3</td>\n",
       "      <td>49.060698</td>\n",
       "      <td>7.532120</td>\n",
       "      <td>1.344299</td>\n",
       "      <td>0</td>\n",
       "    </tr>\n",
       "    <tr>\n",
       "      <th>4545098</th>\n",
       "      <td>s3</td>\n",
       "      <td>49.063059</td>\n",
       "      <td>7.530594</td>\n",
       "      <td>1.341248</td>\n",
       "      <td>0</td>\n",
       "    </tr>\n",
       "    <tr>\n",
       "      <th>4545099</th>\n",
       "      <td>s3</td>\n",
       "      <td>49.065421</td>\n",
       "      <td>7.534027</td>\n",
       "      <td>1.344299</td>\n",
       "      <td>0</td>\n",
       "    </tr>\n",
       "  </tbody>\n",
       "</table>\n",
       "<p>4545100 rows × 5 columns</p>\n",
       "</div>"
      ],
      "text/plain": [
       "        Subject_ID         HR       EDA  Respiration  Label\n",
       "0               s3  63.540091  7.988358     2.204895      0\n",
       "1               s3  63.548125  7.982254     2.180481      0\n",
       "2               s3  63.556159  7.983398     2.166748      0\n",
       "3               s3  63.564193  7.981873     2.191162      0\n",
       "4               s3  63.572228  7.978821     2.183533      0\n",
       "...            ...        ...       ...          ...    ...\n",
       "4545095         s3  49.055975  7.535934     1.371765      0\n",
       "4545096         s3  49.058337  7.533646     1.356506      0\n",
       "4545097         s3  49.060698  7.532120     1.344299      0\n",
       "4545098         s3  49.063059  7.530594     1.341248      0\n",
       "4545099         s3  49.065421  7.534027     1.344299      0\n",
       "\n",
       "[4545100 rows x 5 columns]"
      ]
     },
     "execution_count": 8,
     "metadata": {},
     "output_type": "execute_result"
    }
   ],
   "source": [
    "s3_df"
   ]
  },
  {
   "cell_type": "markdown",
   "id": "f4497d2b",
   "metadata": {
    "papermill": {
     "duration": 0.006128,
     "end_time": "2025-03-16T20:15:04.967272",
     "exception": false,
     "start_time": "2025-03-16T20:15:04.961144",
     "status": "completed"
    },
    "tags": []
   },
   "source": [
    "## Subject 4"
   ]
  },
  {
   "cell_type": "markdown",
   "id": "03f5563c",
   "metadata": {
    "papermill": {
     "duration": 0.006133,
     "end_time": "2025-03-16T20:15:04.980199",
     "exception": false,
     "start_time": "2025-03-16T20:15:04.974066",
     "status": "completed"
    },
    "tags": []
   },
   "source": [
    "### Importing Pickle file"
   ]
  },
  {
   "cell_type": "code",
   "execution_count": 9,
   "id": "798719eb",
   "metadata": {
    "execution": {
     "iopub.execute_input": "2025-03-16T20:15:04.994575Z",
     "iopub.status.busy": "2025-03-16T20:15:04.994143Z",
     "iopub.status.idle": "2025-03-16T20:15:16.111118Z",
     "shell.execute_reply": "2025-03-16T20:15:16.109781Z"
    },
    "papermill": {
     "duration": 11.126842,
     "end_time": "2025-03-16T20:15:16.113794",
     "exception": false,
     "start_time": "2025-03-16T20:15:04.986952",
     "status": "completed"
    },
    "tags": []
   },
   "outputs": [],
   "source": [
    "with open('/kaggle/input/wesad-full-dataset/WESAD/S4/S4.pkl', \"rb\") as file:\n",
    "    s4 = pickle.load(file, encoding=\"latin1\")"
   ]
  },
  {
   "cell_type": "markdown",
   "id": "b1037e10",
   "metadata": {
    "papermill": {
     "duration": 0.006698,
     "end_time": "2025-03-16T20:15:16.127514",
     "exception": false,
     "start_time": "2025-03-16T20:15:16.120816",
     "status": "completed"
    },
    "tags": []
   },
   "source": [
    "### Preprocessing"
   ]
  },
  {
   "cell_type": "code",
   "execution_count": 10,
   "id": "1c35c0d3",
   "metadata": {
    "execution": {
     "iopub.execute_input": "2025-03-16T20:15:16.142095Z",
     "iopub.status.busy": "2025-03-16T20:15:16.141686Z",
     "iopub.status.idle": "2025-03-16T20:15:17.019364Z",
     "shell.execute_reply": "2025-03-16T20:15:17.018139Z"
    },
    "papermill": {
     "duration": 0.887161,
     "end_time": "2025-03-16T20:15:17.021227",
     "exception": false,
     "start_time": "2025-03-16T20:15:16.134066",
     "status": "completed"
    },
    "tags": []
   },
   "outputs": [],
   "source": [
    "s4_ecg_signal = s4[\"signal\"][\"chest\"][\"ECG\"]\n",
    "s4_eda_signal = s4[\"signal\"][\"chest\"][\"EDA\"]\n",
    "s4_resp_signal = s4[\"signal\"][\"chest\"][\"Resp\"]\n",
    "s4_labels = s4[\"label\"]\n",
    "\n",
    "# Flatten the data (make it 1D array)\n",
    "s4_ecg_signal = s4_ecg_signal.flatten()\n",
    "s4_eda_signal = s4_eda_signal.flatten()\n",
    "s4_resp_signal = s4_resp_signal.flatten()\n",
    "\n",
    "# Noise Reduction\n",
    "s4_ecg_cleaned = nk.ecg_clean(s4_ecg_signal, sampling_rate=frequency)\n",
    "\n",
    "# Finding R-Peaks\n",
    "s4_r_peaks, _ = signal.find_peaks(s4_ecg_cleaned, distance=frequency*0.6, height=np.mean(s4_ecg_cleaned))\n",
    "\n",
    "# Calculate HR in Beats Per Minute (BPM)\n",
    "s4_rr_intervals = np.diff(s4_r_peaks) / frequency \n",
    "s4_hr_bpm = 60 / s4_rr_intervals  \n",
    "\n",
    "# Upsampling HR to be the same number of values of EDA\n",
    "s4_hr_bpm_resampled = np.interp(np.linspace(0, len(s4_hr_bpm), len(s4_eda_signal)),\n",
    "                             np.linspace(0, len(s4_hr_bpm), len(s4_hr_bpm)),\n",
    "                             s4_hr_bpm)\n",
    "\n",
    "# Synchronizing features and labels\n",
    "s4_data_dict = {\n",
    "    \"Subject_ID\": 's4',\n",
    "    \"HR\": s4_hr_bpm_resampled,         # معدل ضربات القلب (HR) متزامن مع EDA\n",
    "    \"EDA\": s4_eda_signal,\n",
    "    \"Respiration\": s4_resp_signal,\n",
    "    \"Label\": s4_labels\n",
    "}\n",
    "\n",
    "s4_df = pd.DataFrame(s4_data_dict)\n"
   ]
  },
  {
   "cell_type": "code",
   "execution_count": 11,
   "id": "63a69a57",
   "metadata": {
    "execution": {
     "iopub.execute_input": "2025-03-16T20:15:17.035646Z",
     "iopub.status.busy": "2025-03-16T20:15:17.035266Z",
     "iopub.status.idle": "2025-03-16T20:15:17.048496Z",
     "shell.execute_reply": "2025-03-16T20:15:17.047393Z"
    },
    "papermill": {
     "duration": 0.022464,
     "end_time": "2025-03-16T20:15:17.050280",
     "exception": false,
     "start_time": "2025-03-16T20:15:17.027816",
     "status": "completed"
    },
    "tags": []
   },
   "outputs": [
    {
     "data": {
      "text/html": [
       "<div>\n",
       "<style scoped>\n",
       "    .dataframe tbody tr th:only-of-type {\n",
       "        vertical-align: middle;\n",
       "    }\n",
       "\n",
       "    .dataframe tbody tr th {\n",
       "        vertical-align: top;\n",
       "    }\n",
       "\n",
       "    .dataframe thead th {\n",
       "        text-align: right;\n",
       "    }\n",
       "</style>\n",
       "<table border=\"1\" class=\"dataframe\">\n",
       "  <thead>\n",
       "    <tr style=\"text-align: right;\">\n",
       "      <th></th>\n",
       "      <th>Subject_ID</th>\n",
       "      <th>HR</th>\n",
       "      <th>EDA</th>\n",
       "      <th>Respiration</th>\n",
       "      <th>Label</th>\n",
       "    </tr>\n",
       "  </thead>\n",
       "  <tbody>\n",
       "    <tr>\n",
       "      <th>0</th>\n",
       "      <td>s4</td>\n",
       "      <td>60.085837</td>\n",
       "      <td>1.096344</td>\n",
       "      <td>2.836609</td>\n",
       "      <td>0</td>\n",
       "    </tr>\n",
       "    <tr>\n",
       "      <th>1</th>\n",
       "      <td>s4</td>\n",
       "      <td>60.089848</td>\n",
       "      <td>1.094437</td>\n",
       "      <td>2.839661</td>\n",
       "      <td>0</td>\n",
       "    </tr>\n",
       "    <tr>\n",
       "      <th>2</th>\n",
       "      <td>s4</td>\n",
       "      <td>60.093860</td>\n",
       "      <td>1.094055</td>\n",
       "      <td>2.838135</td>\n",
       "      <td>0</td>\n",
       "    </tr>\n",
       "    <tr>\n",
       "      <th>3</th>\n",
       "      <td>s4</td>\n",
       "      <td>60.097871</td>\n",
       "      <td>1.094818</td>\n",
       "      <td>2.839661</td>\n",
       "      <td>0</td>\n",
       "    </tr>\n",
       "    <tr>\n",
       "      <th>4</th>\n",
       "      <td>s4</td>\n",
       "      <td>60.101883</td>\n",
       "      <td>1.092911</td>\n",
       "      <td>2.882385</td>\n",
       "      <td>0</td>\n",
       "    </tr>\n",
       "    <tr>\n",
       "      <th>...</th>\n",
       "      <td>...</td>\n",
       "      <td>...</td>\n",
       "      <td>...</td>\n",
       "      <td>...</td>\n",
       "      <td>...</td>\n",
       "    </tr>\n",
       "    <tr>\n",
       "      <th>4496095</th>\n",
       "      <td>s4</td>\n",
       "      <td>63.169356</td>\n",
       "      <td>2.483749</td>\n",
       "      <td>2.578735</td>\n",
       "      <td>0</td>\n",
       "    </tr>\n",
       "    <tr>\n",
       "      <th>4496096</th>\n",
       "      <td>s4</td>\n",
       "      <td>63.166490</td>\n",
       "      <td>2.480698</td>\n",
       "      <td>1.963806</td>\n",
       "      <td>0</td>\n",
       "    </tr>\n",
       "    <tr>\n",
       "      <th>4496097</th>\n",
       "      <td>s4</td>\n",
       "      <td>63.163625</td>\n",
       "      <td>2.482605</td>\n",
       "      <td>2.581787</td>\n",
       "      <td>0</td>\n",
       "    </tr>\n",
       "    <tr>\n",
       "      <th>4496098</th>\n",
       "      <td>s4</td>\n",
       "      <td>63.160760</td>\n",
       "      <td>2.494431</td>\n",
       "      <td>2.571106</td>\n",
       "      <td>0</td>\n",
       "    </tr>\n",
       "    <tr>\n",
       "      <th>4496099</th>\n",
       "      <td>s4</td>\n",
       "      <td>63.157895</td>\n",
       "      <td>2.494049</td>\n",
       "      <td>2.561951</td>\n",
       "      <td>0</td>\n",
       "    </tr>\n",
       "  </tbody>\n",
       "</table>\n",
       "<p>4496100 rows × 5 columns</p>\n",
       "</div>"
      ],
      "text/plain": [
       "        Subject_ID         HR       EDA  Respiration  Label\n",
       "0               s4  60.085837  1.096344     2.836609      0\n",
       "1               s4  60.089848  1.094437     2.839661      0\n",
       "2               s4  60.093860  1.094055     2.838135      0\n",
       "3               s4  60.097871  1.094818     2.839661      0\n",
       "4               s4  60.101883  1.092911     2.882385      0\n",
       "...            ...        ...       ...          ...    ...\n",
       "4496095         s4  63.169356  2.483749     2.578735      0\n",
       "4496096         s4  63.166490  2.480698     1.963806      0\n",
       "4496097         s4  63.163625  2.482605     2.581787      0\n",
       "4496098         s4  63.160760  2.494431     2.571106      0\n",
       "4496099         s4  63.157895  2.494049     2.561951      0\n",
       "\n",
       "[4496100 rows x 5 columns]"
      ]
     },
     "execution_count": 11,
     "metadata": {},
     "output_type": "execute_result"
    }
   ],
   "source": [
    "s4_df"
   ]
  },
  {
   "cell_type": "markdown",
   "id": "37249d71",
   "metadata": {
    "papermill": {
     "duration": 0.006736,
     "end_time": "2025-03-16T20:15:17.064097",
     "exception": false,
     "start_time": "2025-03-16T20:15:17.057361",
     "status": "completed"
    },
    "tags": []
   },
   "source": [
    "## Subject 5"
   ]
  },
  {
   "cell_type": "markdown",
   "id": "8f0bf4f5",
   "metadata": {
    "papermill": {
     "duration": 0.006432,
     "end_time": "2025-03-16T20:15:17.077325",
     "exception": false,
     "start_time": "2025-03-16T20:15:17.070893",
     "status": "completed"
    },
    "tags": []
   },
   "source": [
    "### Importing Pickle file"
   ]
  },
  {
   "cell_type": "code",
   "execution_count": 12,
   "id": "c7144f91",
   "metadata": {
    "execution": {
     "iopub.execute_input": "2025-03-16T20:15:17.091714Z",
     "iopub.status.busy": "2025-03-16T20:15:17.091365Z",
     "iopub.status.idle": "2025-03-16T20:15:28.287564Z",
     "shell.execute_reply": "2025-03-16T20:15:28.286074Z"
    },
    "papermill": {
     "duration": 11.207358,
     "end_time": "2025-03-16T20:15:28.291242",
     "exception": false,
     "start_time": "2025-03-16T20:15:17.083884",
     "status": "completed"
    },
    "tags": []
   },
   "outputs": [],
   "source": [
    "with open('/kaggle/input/wesad-full-dataset/WESAD/S5/S5.pkl', \"rb\") as file:\n",
    "    s5 = pickle.load(file, encoding=\"latin1\")"
   ]
  },
  {
   "cell_type": "markdown",
   "id": "3c9819a3",
   "metadata": {
    "papermill": {
     "duration": 0.006471,
     "end_time": "2025-03-16T20:15:28.305181",
     "exception": false,
     "start_time": "2025-03-16T20:15:28.298710",
     "status": "completed"
    },
    "tags": []
   },
   "source": [
    "### Preprocessing"
   ]
  },
  {
   "cell_type": "code",
   "execution_count": 13,
   "id": "c6eff113",
   "metadata": {
    "execution": {
     "iopub.execute_input": "2025-03-16T20:15:28.320650Z",
     "iopub.status.busy": "2025-03-16T20:15:28.320270Z",
     "iopub.status.idle": "2025-03-16T20:15:29.224086Z",
     "shell.execute_reply": "2025-03-16T20:15:29.222613Z"
    },
    "papermill": {
     "duration": 0.914949,
     "end_time": "2025-03-16T20:15:29.226707",
     "exception": false,
     "start_time": "2025-03-16T20:15:28.311758",
     "status": "completed"
    },
    "tags": []
   },
   "outputs": [],
   "source": [
    "s5_ecg_signal = s5[\"signal\"][\"chest\"][\"ECG\"]\n",
    "s5_eda_signal = s5[\"signal\"][\"chest\"][\"EDA\"]\n",
    "s5_resp_signal = s5[\"signal\"][\"chest\"][\"Resp\"]\n",
    "s5_labels = s5[\"label\"]\n",
    "\n",
    "# Flatten the data (make it 1D array)\n",
    "s5_ecg_signal = s5_ecg_signal.flatten()\n",
    "s5_eda_signal = s5_eda_signal.flatten()\n",
    "s5_resp_signal = s5_resp_signal.flatten()\n",
    "\n",
    "# Noise Reduction\n",
    "s5_ecg_cleaned = nk.ecg_clean(s5_ecg_signal, sampling_rate=frequency)\n",
    "\n",
    "# Finding R-Peaks\n",
    "s5_r_peaks, _ = signal.find_peaks(s5_ecg_cleaned, distance=frequency*0.6, height=np.mean(s5_ecg_cleaned))\n",
    "\n",
    "# Calculate HR in Beats Per Minute (BPM)\n",
    "s5_rr_intervals = np.diff(s5_r_peaks) / frequency \n",
    "s5_hr_bpm = 60 / s5_rr_intervals  \n",
    "\n",
    "# Upsampling HR to be the same number of values of EDA\n",
    "s5_hr_bpm_resampled = np.interp(np.linspace(0, len(s5_hr_bpm), len(s5_eda_signal)),\n",
    "                             np.linspace(0, len(s5_hr_bpm), len(s5_hr_bpm)),\n",
    "                             s5_hr_bpm)\n",
    "\n",
    "# Synchronizing features and labels\n",
    "s5_data_dict = {\n",
    "    \"Subject_ID\": 's5',\n",
    "    \"HR\": s5_hr_bpm_resampled,         # معدل ضربات القلب (HR) متزامن مع EDA\n",
    "    \"EDA\": s5_eda_signal,\n",
    "    \"Respiration\": s5_resp_signal,\n",
    "    \"Label\": s5_labels\n",
    "}\n",
    "\n",
    "s5_df = pd.DataFrame(s5_data_dict)"
   ]
  },
  {
   "cell_type": "code",
   "execution_count": 14,
   "id": "263f84a9",
   "metadata": {
    "execution": {
     "iopub.execute_input": "2025-03-16T20:15:29.243790Z",
     "iopub.status.busy": "2025-03-16T20:15:29.243369Z",
     "iopub.status.idle": "2025-03-16T20:15:29.260610Z",
     "shell.execute_reply": "2025-03-16T20:15:29.259129Z"
    },
    "papermill": {
     "duration": 0.032152,
     "end_time": "2025-03-16T20:15:29.265950",
     "exception": false,
     "start_time": "2025-03-16T20:15:29.233798",
     "status": "completed"
    },
    "tags": []
   },
   "outputs": [
    {
     "data": {
      "text/html": [
       "<div>\n",
       "<style scoped>\n",
       "    .dataframe tbody tr th:only-of-type {\n",
       "        vertical-align: middle;\n",
       "    }\n",
       "\n",
       "    .dataframe tbody tr th {\n",
       "        vertical-align: top;\n",
       "    }\n",
       "\n",
       "    .dataframe thead th {\n",
       "        text-align: right;\n",
       "    }\n",
       "</style>\n",
       "<table border=\"1\" class=\"dataframe\">\n",
       "  <thead>\n",
       "    <tr style=\"text-align: right;\">\n",
       "      <th></th>\n",
       "      <th>Subject_ID</th>\n",
       "      <th>HR</th>\n",
       "      <th>EDA</th>\n",
       "      <th>Respiration</th>\n",
       "      <th>Label</th>\n",
       "    </tr>\n",
       "  </thead>\n",
       "  <tbody>\n",
       "    <tr>\n",
       "      <th>0</th>\n",
       "      <td>s5</td>\n",
       "      <td>93.541203</td>\n",
       "      <td>3.888321</td>\n",
       "      <td>0.044250</td>\n",
       "      <td>0</td>\n",
       "    </tr>\n",
       "    <tr>\n",
       "      <th>1</th>\n",
       "      <td>s5</td>\n",
       "      <td>93.496044</td>\n",
       "      <td>3.913116</td>\n",
       "      <td>0.032043</td>\n",
       "      <td>0</td>\n",
       "    </tr>\n",
       "    <tr>\n",
       "      <th>2</th>\n",
       "      <td>s5</td>\n",
       "      <td>93.450884</td>\n",
       "      <td>3.873062</td>\n",
       "      <td>0.015259</td>\n",
       "      <td>0</td>\n",
       "    </tr>\n",
       "    <tr>\n",
       "      <th>3</th>\n",
       "      <td>s5</td>\n",
       "      <td>93.405725</td>\n",
       "      <td>3.883362</td>\n",
       "      <td>-0.062561</td>\n",
       "      <td>0</td>\n",
       "    </tr>\n",
       "    <tr>\n",
       "      <th>4</th>\n",
       "      <td>s5</td>\n",
       "      <td>93.360566</td>\n",
       "      <td>3.886795</td>\n",
       "      <td>0.016785</td>\n",
       "      <td>0</td>\n",
       "    </tr>\n",
       "    <tr>\n",
       "      <th>...</th>\n",
       "      <td>...</td>\n",
       "      <td>...</td>\n",
       "      <td>...</td>\n",
       "      <td>...</td>\n",
       "      <td>...</td>\n",
       "    </tr>\n",
       "    <tr>\n",
       "      <th>4380595</th>\n",
       "      <td>s5</td>\n",
       "      <td>74.732221</td>\n",
       "      <td>10.231400</td>\n",
       "      <td>7.070923</td>\n",
       "      <td>0</td>\n",
       "    </tr>\n",
       "    <tr>\n",
       "      <th>4380596</th>\n",
       "      <td>s5</td>\n",
       "      <td>74.732440</td>\n",
       "      <td>10.231018</td>\n",
       "      <td>7.044983</td>\n",
       "      <td>0</td>\n",
       "    </tr>\n",
       "    <tr>\n",
       "      <th>4380597</th>\n",
       "      <td>s5</td>\n",
       "      <td>74.732659</td>\n",
       "      <td>10.231018</td>\n",
       "      <td>7.057190</td>\n",
       "      <td>0</td>\n",
       "    </tr>\n",
       "    <tr>\n",
       "      <th>4380598</th>\n",
       "      <td>s5</td>\n",
       "      <td>74.732877</td>\n",
       "      <td>10.230637</td>\n",
       "      <td>7.090759</td>\n",
       "      <td>0</td>\n",
       "    </tr>\n",
       "    <tr>\n",
       "      <th>4380599</th>\n",
       "      <td>s5</td>\n",
       "      <td>74.733096</td>\n",
       "      <td>10.230637</td>\n",
       "      <td>7.075500</td>\n",
       "      <td>0</td>\n",
       "    </tr>\n",
       "  </tbody>\n",
       "</table>\n",
       "<p>4380600 rows × 5 columns</p>\n",
       "</div>"
      ],
      "text/plain": [
       "        Subject_ID         HR        EDA  Respiration  Label\n",
       "0               s5  93.541203   3.888321     0.044250      0\n",
       "1               s5  93.496044   3.913116     0.032043      0\n",
       "2               s5  93.450884   3.873062     0.015259      0\n",
       "3               s5  93.405725   3.883362    -0.062561      0\n",
       "4               s5  93.360566   3.886795     0.016785      0\n",
       "...            ...        ...        ...          ...    ...\n",
       "4380595         s5  74.732221  10.231400     7.070923      0\n",
       "4380596         s5  74.732440  10.231018     7.044983      0\n",
       "4380597         s5  74.732659  10.231018     7.057190      0\n",
       "4380598         s5  74.732877  10.230637     7.090759      0\n",
       "4380599         s5  74.733096  10.230637     7.075500      0\n",
       "\n",
       "[4380600 rows x 5 columns]"
      ]
     },
     "execution_count": 14,
     "metadata": {},
     "output_type": "execute_result"
    }
   ],
   "source": [
    "s5_df"
   ]
  }
 ],
 "metadata": {
  "kaggle": {
   "accelerator": "none",
   "dataSources": [
    {
     "datasetId": 6775341,
     "sourceId": 10901489,
     "sourceType": "datasetVersion"
    }
   ],
   "dockerImageVersionId": 30918,
   "isGpuEnabled": false,
   "isInternetEnabled": true,
   "language": "python",
   "sourceType": "notebook"
  },
  "kernelspec": {
   "display_name": "Python 3",
   "language": "python",
   "name": "python3"
  },
  "language_info": {
   "codemirror_mode": {
    "name": "ipython",
    "version": 3
   },
   "file_extension": ".py",
   "mimetype": "text/x-python",
   "name": "python",
   "nbconvert_exporter": "python",
   "pygments_lexer": "ipython3",
   "version": "3.10.12"
  },
  "papermill": {
   "default_parameters": {},
   "duration": 63.005819,
   "end_time": "2025-03-16T20:15:30.304379",
   "environment_variables": {},
   "exception": null,
   "input_path": "__notebook__.ipynb",
   "output_path": "__notebook__.ipynb",
   "parameters": {},
   "start_time": "2025-03-16T20:14:27.298560",
   "version": "2.6.0"
  }
 },
 "nbformat": 4,
 "nbformat_minor": 5
}
